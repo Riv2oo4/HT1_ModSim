{
 "cells": [
  {
   "cell_type": "markdown",
   "id": "bab23ff5",
   "metadata": {},
   "source": [
    "*** IMPLEMENTACIÓN BASE"
   ]
  }
 ],
 "metadata": {
  "language_info": {
   "name": "python"
  }
 },
 "nbformat": 4,
 "nbformat_minor": 5
}
